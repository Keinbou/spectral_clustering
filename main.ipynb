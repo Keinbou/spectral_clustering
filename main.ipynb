{
 "cells": [
  {
   "cell_type": "code",
   "execution_count": 1,
   "metadata": {},
   "outputs": [],
   "source": [
    "from IPython.display import display, clear_output\n",
    "import matplotlib.pyplot as plt\n",
    "import matplotlib as mpl\n",
    "import numpy as np\n",
    "from local_helper import * # local package"
   ]
  },
  {
   "cell_type": "code",
   "execution_count": 2,
   "metadata": {},
   "outputs": [],
   "source": [
    "FILE_PATH = \"datasets/file_1.csv\""
   ]
  },
  {
   "cell_type": "code",
   "execution_count": 3,
   "metadata": {},
   "outputs": [],
   "source": [
    "from ctypes import *\n",
    "\n",
    "so_file = \"./c/c_code.so\"\n",
    "c_code  = CDLL(so_file)"
   ]
  },
  {
   "cell_type": "code",
   "execution_count": 5,
   "metadata": {},
   "outputs": [],
   "source": [
    "# spectral() function\n",
    "c_code.spectral.argstype = [c_int, c_int, POINTER(c_char), c_int]\n",
    "c_code.spectral.restype  = POINTER(POINTER(c_float))\n",
    "\n",
    "# free_floatPP() function\n",
    "c_code.free_floatPP.argtypes = [POINTER(POINTER(c_float))]\n",
    "c_code.free_floatPP.restype  = None"
   ]
  },
  {
   "cell_type": "code",
   "execution_count": 6,
   "metadata": {},
   "outputs": [
    {
     "name": "stdout",
     "output_type": "stream",
     "text": [
      "Depth: 300 | Width: 3\n"
     ]
    }
   ],
   "source": [
    "path = FILE_PATH.encode('utf-8')\n",
    "read_rows = fileDepth(FILE_PATH)\n",
    "data_len  = fileWidth(FILE_PATH)\n",
    "knn = 20\n",
    "print(f\"Depth: {read_rows} | Width: {data_len}\")"
   ]
  },
  {
   "cell_type": "code",
   "execution_count": 7,
   "metadata": {},
   "outputs": [
    {
     "name": "stdout",
     "output_type": "stream",
     "text": [
      "\n",
      "REQ_DATA_LEN: 3 \tTRU_DATA_LEN: 3\n",
      "REQ_N_ROWS  : 300 \tTRU_N_ROWS  : 300+1\n",
      "\n",
      "\n",
      "0\t-8.028029 -9.004721 2.000000 \n",
      "1\t-9.030661 -7.841498 2.000000 \n",
      "2\t-0.452835 5.962177 0.000000 \n",
      "3\t4.095676 4.720112 1.000000 \n",
      "4\t-11.974938 -9.400326 2.000000 \n",
      "300x3 matrix. 5x3 printed.\n",
      "\n",
      "k of clusters: 3\n",
      "\n",
      "0\t-8.028029 -9.004721 \n",
      "1\t-9.030661 -7.841498 \n",
      "2\t-0.452835 5.962177 \n",
      "3\t4.095676 4.720112 \n",
      "4\t-11.974938 -9.400326 \n",
      "300x2 matrix. 5x2 printed.\n",
      "\n",
      "\n",
      "0\t0.000000 2.165854 22.542091 25.848537 4.342514 \n",
      "1\t2.165854 0.000000 22.381500 25.687946 4.503105 \n",
      "2\t22.542091 22.381500 0.000000 5.790576 26.884605 \n",
      "3\t25.848537 25.687946 5.790576 0.000000 30.191051 \n",
      "4\t4.342514 4.503105 26.884605 30.191051 0.000000 \n",
      "300x300 matrix. 5x5 printed.\n",
      "\n",
      "\n",
      "0\t0.000000 1.000000 0.000000 0.000000 0.000000 0.000000 0.000000 0.000000 0.000000 0.000000 0.000000 0.000000 0.000000 0.000000 1.000000 0.000000 0.000000 0.000000 0.000000 0.000000 0.000000 0.000000 0.000000 0.000000 0.000000 0.000000 0.000000 0.000000 0.000000 0.000000 0.000000 0.000000 0.000000 0.000000 0.000000 0.000000 0.000000 0.000000 1.000000 0.000000 0.000000 0.000000 1.000000 0.000000 0.000000 0.000000 1.000000 0.000000 0.000000 0.000000 0.000000 0.000000 0.000000 0.000000 0.000000 0.000000 0.000000 0.000000 0.000000 0.000000 0.000000 0.000000 0.000000 0.000000 0.000000 0.000000 0.000000 0.000000 0.000000 0.000000 0.000000 0.000000 0.000000 0.000000 0.000000 0.000000 0.000000 0.000000 0.000000 0.000000 0.000000 0.000000 0.000000 0.000000 0.000000 0.000000 0.000000 0.000000 0.000000 0.000000 0.000000 0.000000 0.000000 0.000000 0.000000 1.000000 0.000000 0.000000 0.000000 0.000000 0.000000 0.000000 0.000000 0.000000 0.000000 0.000000 0.000000 0.000000 0.000000 0.000000 0.000000 0.000000 0.000000 0.000000 0.000000 0.000000 0.000000 0.000000 0.000000 0.000000 0.000000 0.000000 0.000000 0.000000 1.000000 1.000000 0.000000 0.000000 0.000000 1.000000 0.000000 0.000000 0.000000 0.000000 0.000000 0.000000 0.000000 1.000000 0.000000 1.000000 0.000000 0.000000 0.000000 0.000000 0.000000 0.000000 0.000000 0.000000 0.000000 0.000000 0.000000 0.000000 0.000000 0.000000 0.000000 0.000000 0.000000 1.000000 0.000000 0.000000 0.000000 0.000000 0.000000 0.000000 0.000000 0.000000 0.000000 0.000000 0.000000 0.000000 0.000000 0.000000 0.000000 0.000000 0.000000 0.000000 0.000000 0.000000 0.000000 0.000000 0.000000 0.000000 0.000000 0.000000 0.000000 0.000000 0.000000 0.000000 0.000000 0.000000 0.000000 0.000000 0.000000 0.000000 0.000000 0.000000 0.000000 0.000000 0.000000 0.000000 0.000000 0.000000 0.000000 0.000000 0.000000 0.000000 0.000000 1.000000 0.000000 0.000000 0.000000 0.000000 0.000000 0.000000 1.000000 0.000000 0.000000 0.000000 0.000000 0.000000 0.000000 0.000000 1.000000 0.000000 0.000000 0.000000 0.000000 0.000000 0.000000 0.000000 0.000000 0.000000 0.000000 0.000000 0.000000 0.000000 0.000000 0.000000 0.000000 1.000000 0.000000 0.000000 0.000000 0.000000 0.000000 0.000000 0.000000 0.000000 1.000000 0.000000 0.000000 0.000000 1.000000 0.000000 0.000000 0.000000 0.000000 0.000000 0.000000 0.000000 0.000000 0.000000 1.000000 0.000000 0.000000 0.000000 0.000000 0.000000 0.000000 0.000000 0.000000 0.000000 0.000000 0.000000 0.000000 0.000000 0.000000 0.000000 0.000000 0.000000 0.000000 0.000000 0.000000 0.000000 0.000000 0.000000 0.000000 0.000000 0.000000 0.000000 0.000000 0.000000 0.000000 0.000000 1.000000 0.000000 0.000000 0.000000 0.000000 0.000000 \n",
      "300x300 matrix. 1x300 printed.\n",
      "\n"
     ]
    }
   ],
   "source": [
    "out = c_code.spectral(data_len, read_rows, path, knn)"
   ]
  },
  {
   "cell_type": "code",
   "execution_count": 8,
   "metadata": {},
   "outputs": [],
   "source": [
    "l = lp_lp_float_c_to_list_2d(out, read_rows)"
   ]
  },
  {
   "cell_type": "code",
   "execution_count": 13,
   "metadata": {},
   "outputs": [
    {
     "name": "stdout",
     "output_type": "stream",
     "text": [
      "True\n"
     ]
    }
   ],
   "source": [
    "for row in l:\n",
    "    if row.count(1) != knn:\n",
    "        print(False)\n",
    "        break\n",
    "else: print(True)"
   ]
  },
  {
   "cell_type": "code",
   "execution_count": 14,
   "metadata": {},
   "outputs": [],
   "source": [
    "all_dots = readCsv(FILE_PATH)\n",
    "\n",
    "cls = [int(dot[2]) for dot in all_dots]\n",
    "cls_set = set(cls)\n",
    "x = [dot[0] for dot in all_dots]\n",
    "y = [dot[1] for dot in all_dots]"
   ]
  },
  {
   "cell_type": "code",
   "execution_count": 15,
   "metadata": {},
   "outputs": [
    {
     "data": {
      "image/png": "[encoded data removed]",
      "text/html": [
       "<div style=\"vertical-align: middle;\"><strong>cool</strong> </div><div class=\"cmap\"><img alt=\"cool colormap\" title=\"cool\" style=\"border: 1px solid #555;\" src=\"data:image/png;base64,iVBORw0KGgoAAAANSUhEUgAAAgAAAABACAYAAABsv8+/AAAAE3RFWHRUaXRsZQBjb29sIGNvbG9ybWFwN9+MxQAAABl0RVh0RGVzY3JpcHRpb24AY29vbCBjb2xvcm1hcLxtHF0AAAAxdEVYdEF1dGhvcgBNYXRwbG90bGliIHYzLjEwLjAsIGh0dHBzOi8vbWF0cGxvdGxpYi5vcmezl84GAAAAM3RFWHRTb2Z0d2FyZQBNYXRwbG90bGliIHYzLjEwLjAsIGh0dHBzOi8vbWF0cGxvdGxpYi5vcmcWs93yAAABNElEQVR4nO3WsRGAMAADscDihMnDCNBx8FLtwuVvY6014AOO+fYDuDfPtx/AM/vDHQDwIwIAAIIEAAAECQAACBIAABAkAAAgSAAAQJAAAIAgAQAAQQIAAIIEAAAECQAACBIAABAkAAAgSAAAQJAAAIAgAQAAQQIAAIIEAAAECQAACBIAABAkAAAgSAAAQJAAAIAgAQAAQQIAAIIEAAAECQAACBIAABAkAAAgSAAAQJAAAIAgAQAAQQIAAIIEAAAECQAACBIAABAkAAAgSAAAQJAAAIAgAQAAQQIAAIIEAAAECQAACBIAABAkAAAgSAAAQJAAAIAgAQAAQQIAAIIEAAAECQAACBIAABAkAAAgSAAAQJAAAIAgAQAAQQIAAIIEAAAECQAACBIAABAkAAAgSAAAQNAF3bsFfTXLM14AAAAASUVORK5CYII=\"></div><div style=\"vertical-align: middle; max-width: 514px; display: flex; justify-content: space-between;\"><div style=\"float: left;\"><div title=\"#00ffffff\" style=\"display: inline-block; width: 1em; height: 1em; margin: 0; vertical-align: middle; border: 1px solid #555; background-color: #00ffffff;\"></div> under</div><div style=\"margin: 0 auto; display: inline-block;\">bad <div title=\"#00000000\" style=\"display: inline-block; width: 1em; height: 1em; margin: 0; vertical-align: middle; border: 1px solid #555; background-color: #00000000;\"></div></div><div style=\"float: right;\">over <div title=\"#ff00ffff\" style=\"display: inline-block; width: 1em; height: 1em; margin: 0; vertical-align: middle; border: 1px solid #555; background-color: #ff00ffff;\"></div></div></div>"
      ],
      "text/plain": [
       "<matplotlib.colors.LinearSegmentedColormap at 0x10d2d50d0>"
      ]
     },
     "execution_count": 15,
     "metadata": {},
     "output_type": "execute_result"
    }
   ],
   "source": [
    "jet = mpl.colormaps['cool'].resampled(len(cls_set))\n",
    "jet"
   ]
  },
  {
   "cell_type": "code",
   "execution_count": 16,
   "metadata": {},
   "outputs": [],
   "source": [
    "def setupMPL():\n",
    "    font = {'family' : 'sans-serif',\n",
    "        'weight' : 'bold',\n",
    "        'size'   : 22}\n",
    "\n",
    "    mpl.rc('font', **font)\n",
    "\n",
    "    fig, axis = plt.subplots(2,2, figsize=(20,20))\n",
    "    fig.subplots_adjust(top=.94, hspace=.2, wspace=.2) #, bottom=0, left=0, right=1, wspace=.15, hspace=.15)\n",
    "    fig.suptitle(\"file_1.csv Clustering\", y=.98)\n",
    "\n",
    "    cmap    = jet\n",
    "    classes = list(cls_set)\n",
    "    bounds  = np.arange(classes[0]-.5, classes[-1]+1.5, 1)\n",
    "    norm    = mpl.colors.BoundaryNorm(bounds, cmap.N)\n",
    "    map     = mpl.cm.ScalarMappable(norm=norm, cmap=cmap)\n",
    "    fig.colorbar(map, ax=axis, ticks=classes, orientation='horizontal', pad=0.05)\n",
    "\n",
    "    axis[0,0].set_title(\"X algorithm\")\n",
    "    axis[0,0].set_xlim([-15, 20])\n",
    "    axis[0,0].set_ylim([-15, 20])\n",
    "\n",
    "    axis[0,1].set_title(\"Y algorithm\")\n",
    "    axis[0,1].set_xlim([-15, 20])\n",
    "    axis[0,1].set_ylim([-15, 20])\n",
    "\n",
    "    axis[1,0].set_title(\"Z algorithm\")\n",
    "    axis[1,0].set_xlim([-15, 20])\n",
    "    axis[1,0].set_ylim([-15, 20])\n",
    "\n",
    "    axis[1,1].set_title(\"I algorithm\")\n",
    "    axis[1,1].set_xlim([-15, 20])\n",
    "    axis[1,1].set_ylim([-15, 20])\n",
    "    return fig, axis"
   ]
  },
  {
   "cell_type": "code",
   "execution_count": 17,
   "metadata": {},
   "outputs": [],
   "source": [
    "def plot(fig, axis, x, y, all_dots, some_dots, w:int):\n",
    "    x1 = [dot[0] for dot in some_dots]\n",
    "    y1 = [dot[1] for dot in some_dots]\n",
    "    axis[0,0].cla()\n",
    "    axis[0,0].set_xlim([-15, 20])\n",
    "    axis[0,0].set_ylim([-15, 20])\n",
    "    axis[0,0].scatter(x, y, c=cls, cmap=jet)\n",
    "    axis[0,0].scatter(x1, y1, c='black')\n",
    "    axis[0,0].scatter(all_dots[w][0], all_dots[w][1], c='r')\n",
    "\n",
    "    display(fig)\n",
    "    clear_output(wait=True)\n",
    "    plt.pause(1)"
   ]
  },
  {
   "cell_type": "code",
   "execution_count": 18,
   "metadata": {},
   "outputs": [],
   "source": [
    "def playKNN(fig, axis, x, y, all_dots):\n",
    "    for w in range(read_rows):\n",
    "        some_dots = []\n",
    "        for i, dot in enumerate(l[w]):\n",
    "            if dot==1:\n",
    "                some_dots.append(all_dots[i])\n",
    "        plot(fig, axis, x, y, all_dots, some_dots, w)"
   ]
  },
  {
   "cell_type": "code",
   "execution_count": 19,
   "metadata": {},
   "outputs": [
    {
     "ename": "KeyboardInterrupt",
     "evalue": "",
     "output_type": "error",
     "traceback": [
      "\u001b[0;31m---------------------------------------------------------------------------\u001b[0m",
      "\u001b[0;31mKeyboardInterrupt\u001b[0m                         Traceback (most recent call last)",
      "Cell \u001b[0;32mIn[19], line 3\u001b[0m\n\u001b[1;32m      1\u001b[0m fig, axis \u001b[38;5;241m=\u001b[39m setupMPL()\n\u001b[0;32m----> 3\u001b[0m \u001b[43mplayKNN\u001b[49m\u001b[43m(\u001b[49m\u001b[43mfig\u001b[49m\u001b[43m,\u001b[49m\u001b[43m \u001b[49m\u001b[43maxis\u001b[49m\u001b[43m,\u001b[49m\u001b[43m \u001b[49m\u001b[43mx\u001b[49m\u001b[43m,\u001b[49m\u001b[43m \u001b[49m\u001b[43my\u001b[49m\u001b[43m,\u001b[49m\u001b[43m \u001b[49m\u001b[43mall_dots\u001b[49m\u001b[43m)\u001b[49m\n",
      "Cell \u001b[0;32mIn[18], line 7\u001b[0m, in \u001b[0;36mplayKNN\u001b[0;34m(fig, axis, x, y, all_dots)\u001b[0m\n\u001b[1;32m      5\u001b[0m     \u001b[38;5;28;01mif\u001b[39;00m dot\u001b[38;5;241m==\u001b[39m\u001b[38;5;241m1\u001b[39m:\n\u001b[1;32m      6\u001b[0m         some_dots\u001b[38;5;241m.\u001b[39mappend(all_dots[i])\n\u001b[0;32m----> 7\u001b[0m \u001b[43mplot\u001b[49m\u001b[43m(\u001b[49m\u001b[43mfig\u001b[49m\u001b[43m,\u001b[49m\u001b[43m \u001b[49m\u001b[43maxis\u001b[49m\u001b[43m,\u001b[49m\u001b[43m \u001b[49m\u001b[43mx\u001b[49m\u001b[43m,\u001b[49m\u001b[43m \u001b[49m\u001b[43my\u001b[49m\u001b[43m,\u001b[49m\u001b[43m \u001b[49m\u001b[43mall_dots\u001b[49m\u001b[43m,\u001b[49m\u001b[43m \u001b[49m\u001b[43msome_dots\u001b[49m\u001b[43m,\u001b[49m\u001b[43m \u001b[49m\u001b[43mw\u001b[49m\u001b[43m)\u001b[49m\n",
      "Cell \u001b[0;32mIn[17], line 13\u001b[0m, in \u001b[0;36mplot\u001b[0;34m(fig, axis, x, y, all_dots, some_dots, w)\u001b[0m\n\u001b[1;32m     11\u001b[0m display(fig)\n\u001b[1;32m     12\u001b[0m clear_output(wait\u001b[38;5;241m=\u001b[39m\u001b[38;5;28;01mTrue\u001b[39;00m)\n\u001b[0;32m---> 13\u001b[0m \u001b[43mplt\u001b[49m\u001b[38;5;241;43m.\u001b[39;49m\u001b[43mpause\u001b[49m\u001b[43m(\u001b[49m\u001b[38;5;241;43m1\u001b[39;49m\u001b[43m)\u001b[49m\n",
      "File \u001b[0;32m~/Desktop/AGKI_PROJECT/Dev/.venv/lib/python3.13/site-packages/matplotlib/pyplot.py:760\u001b[0m, in \u001b[0;36mpause\u001b[0;34m(interval)\u001b[0m\n\u001b[1;32m    758\u001b[0m     canvas\u001b[38;5;241m.\u001b[39mstart_event_loop(interval)\n\u001b[1;32m    759\u001b[0m \u001b[38;5;28;01melse\u001b[39;00m:\n\u001b[0;32m--> 760\u001b[0m     \u001b[43mtime\u001b[49m\u001b[38;5;241;43m.\u001b[39;49m\u001b[43msleep\u001b[49m\u001b[43m(\u001b[49m\u001b[43minterval\u001b[49m\u001b[43m)\u001b[49m\n",
      "\u001b[0;31mKeyboardInterrupt\u001b[0m: "
     ]
    }
   ],
   "source": [
    "fig, axis = setupMPL()\n",
    "\n",
    "# Plot a graph that shows knn neighbours for each dot over time in Jupyter Notebook.\n",
    "playKNN(fig, axis, x, y, all_dots)"
   ]
  },
  {
   "cell_type": "code",
   "execution_count": null,
   "metadata": {},
   "outputs": [],
   "source": [
    "# TO-DO\n",
    "# kNN\n",
    "# Gaussian Mixture Model\n",
    "# DBSCAN\n",
    "# Spectral Clustering\n",
    "# Birch Algorithm\n",
    "# Mean-Shift\n",
    "# Affinity Propagation\n",
    "# OPTICS Algorithm"
   ]
  }
 ],
 "metadata": {
  "kernelspec": {
   "display_name": ".venv",
   "language": "python",
   "name": "python3"
  },
  "language_info": {
   "codemirror_mode": {
    "name": "ipython",
    "version": 3
   },
   "file_extension": ".py",
   "mimetype": "text/x-python",
   "name": "python",
   "nbconvert_exporter": "python",
   "pygments_lexer": "ipython3",
   "version": "3.13.1"
  }
 },
 "nbformat": 4,
 "nbformat_minor": 2
}
